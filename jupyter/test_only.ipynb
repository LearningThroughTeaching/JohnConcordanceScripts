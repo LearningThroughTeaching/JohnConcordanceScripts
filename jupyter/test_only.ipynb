{
 "cells": [
  {
   "cell_type": "code",
   "execution_count": 1,
   "id": "5c2abd18-3e95-411d-9cbf-862369805bb1",
   "metadata": {
    "tags": []
   },
   "outputs": [
    {
     "name": "stdout",
     "output_type": "stream",
     "text": [
      "--- John Concordance loaded ---\n"
     ]
    }
   ],
   "source": [
    "import json\n",
    "from greek_word import GreekWord\n",
    "\n",
    "def load_greek_concordance(concordance_filename):\n",
    "    greek_concordance_json_file = open(f\"../data/greek_concordances/{concordance_filename}\")\n",
    "\n",
    "    verse_maps = json.load(greek_concordance_json_file)\n",
    "    greek_words = []\n",
    "\n",
    "    for single_verse in verse_maps:\n",
    "        current_chapter = int(single_verse[\"id\"][2:5])\n",
    "        current_verse = int(single_verse[\"id\"][5:])\n",
    "        # current_fisher_section = get_fisher_section(concordance_filename, current_chapter, current_verse)\n",
    "        current_fisher_section = 0  # TODO: Implement this in John (sections 1:1-1:18, 1:19-4, 5-10, 11-12, 13-17, 18-20, 21)\n",
    "        words = single_verse[\"verse\"]\n",
    "\n",
    "        word_index = 0\n",
    "        for json_word in words:\n",
    "            greek_word = json_word[\"word\"]\n",
    "            english_text = json_word[\"text\"]\n",
    "            i = json_word[\"i\"]  # really not that useful, similar to word_index but different for repeated words (i becomes the final word_index)\n",
    "            strongs_number = json_word[\"number\"]\n",
    "            greek_word = GreekWord(greek_word, english_text, current_chapter, current_verse, word_index, i, current_fisher_section, strongs_number, None, None)\n",
    "            greek_words.append(greek_word)\n",
    "            word_index += 1  # The useful equivalent of i (see above), unique for each word in the verse.\n",
    "\n",
    "    greek_concordance_json_file.close()\n",
    "    return greek_words\n",
    "\n",
    "\n",
    "print(\"--- John Concordance loaded ---\")\n",
    "john_words = load_greek_concordance(\"john_concordance.json\")"
   ]
  },
  {
   "cell_type": "code",
   "execution_count": 2,
   "id": "6795b86c-2ff9-465f-a087-c22ccb732d14",
   "metadata": {
    "tags": []
   },
   "outputs": [
    {
     "name": "stdout",
     "output_type": "stream",
     "text": [
      "Ἐν - In (1:1.0) g1722 T0\n",
      "ἀρχῇ - the beginning (1:1.1) g746 T0\n",
      "ἦν - was (1:1.2) g2258 T0\n",
      "ὁ -  (1:1.3) g3588 T0\n",
      "λόγος - the Word (1:1.4) g3056 T0\n",
      "καὶ - and (1:1.5) g2532 T0\n",
      "ὁ -  (1:1.6) g3588 T0\n",
      "λόγος - the Word (1:1.7) g3056 T0\n",
      "ἦν - was (1:1.8) g2258 T0\n",
      "πρὸς - with (1:1.9) g4314 T0\n",
      "τὸν -  (1:1.10) g3588 T0\n",
      "θεὸς - God (1:1.11) g2316 T0\n",
      "καὶ - and (1:1.12) g2532 T0\n",
      "θεὸς - God (1:1.13) g2316 T0\n",
      "ἦν - was (1:1.14) g2258 T0\n",
      "ὁ -  (1:1.15) g3588 T0\n",
      "λόγος - the Word (1:1.16) g3056 T0\n",
      "οὗτος - The same (1:2.0) g3778 T0\n",
      "ἦν - was (1:2.1) g2258 T0\n",
      "ἐν - in (1:2.2) g1722 T0\n",
      "ἀρχῇ - the beginning (1:2.3) g746 T0\n",
      "πρὸς - with (1:2.4) g4314 T0\n",
      "τὸν -  (1:2.5) g3588 T0\n",
      "θεόν - God (1:2.6) g2316 T0\n"
     ]
    }
   ],
   "source": [
    "for k in range(24):\n",
    "    print(john_words[k])"
   ]
  },
  {
   "cell_type": "code",
   "execution_count": 4,
   "id": "f0b5cebd-0466-4a50-b025-11a132792f6d",
   "metadata": {},
   "outputs": [],
   "source": [
    "def find_strongs(all_words: list[GreekWord], strongs_list, print_only=True):\n",
    "    greek_word_matches = []\n",
    "    hits = 1\n",
    "    prior_verse_index = None\n",
    "    for word in all_words:\n",
    "        found = False\n",
    "        for strongs_number in strongs_list:\n",
    "            if strongs_number == word.strongs_number and word.verse_index != prior_verse_index:\n",
    "                found = True\n",
    "                prior_verse_index = word.verse_index\n",
    "        if found:\n",
    "            if print_only:\n",
    "                print(f\"    {hits}. {word}\")\n",
    "                hits += 1\n",
    "            else:\n",
    "                greek_word_matches.append(word)\n",
    "    return greek_word_matches"
   ]
  },
  {
   "cell_type": "code",
   "execution_count": 5,
   "id": "55113b5b-c8b8-4fdc-8077-4745e4812f78",
   "metadata": {
    "tags": []
   },
   "outputs": [
    {
     "name": "stdout",
     "output_type": "stream",
     "text": [
      "    1. τελειώσω - to finish (4:34.15) g5048 T0\n",
      "    2. τελειώσω - finish (5:36.17) g5048 T0\n",
      "    3. τέλος - the end (13:1.31) g5056 T0\n",
      "    4. ετελείωσα - I have finished (17:4.8) g5048 T0\n",
      "    5. τετελειωμένοι - made perfect (17:23.9) g5048 T0\n",
      "    6. τετέλεσται - accomplished (19:28.8) g5055 T0\n",
      "    7. τελειωθῇ - might be fulfilled (19:28.10) g5048 T0\n",
      "    8. Τετέλεσται - It is finished (19:30.8) g5055 T0\n"
     ]
    },
    {
     "data": {
      "text/plain": [
       "[]"
      ]
     },
     "execution_count": 5,
     "metadata": {},
     "output_type": "execute_result"
    }
   ],
   "source": [
    "find_strongs(john_words, [\"g5046\", \"g5055\", \"g5056\", \"g658\", \"g5048\"])"
   ]
  },
  {
   "cell_type": "code",
   "execution_count": 14,
   "id": "a81728ca-083f-4441-a990-231a60e130df",
   "metadata": {
    "tags": []
   },
   "outputs": [
    {
     "name": "stdout",
     "output_type": "stream",
     "text": [
      "    1. τεκνία - Little children (13:33.0) g5040 T0\n"
     ]
    },
    {
     "data": {
      "text/plain": [
       "[]"
      ]
     },
     "execution_count": 14,
     "metadata": {},
     "output_type": "execute_result"
    }
   ],
   "source": [
    "find_strongs(john_words, [\"enter your search here\", \"multiple if needed\", \"g5040\"]) # g5040 is fun in 1st John"
   ]
  },
  {
   "cell_type": "code",
   "execution_count": null,
   "id": "ddef963b-a635-46d9-946e-011756794532",
   "metadata": {},
   "outputs": [],
   "source": []
  }
 ],
 "metadata": {
  "kernelspec": {
   "display_name": "Python 3 (ipykernel)",
   "language": "python",
   "name": "python3"
  },
  "language_info": {
   "codemirror_mode": {
    "name": "ipython",
    "version": 3
   },
   "file_extension": ".py",
   "mimetype": "text/x-python",
   "name": "python",
   "nbconvert_exporter": "python",
   "pygments_lexer": "ipython3",
   "version": "3.11.5"
  }
 },
 "nbformat": 4,
 "nbformat_minor": 5
}
