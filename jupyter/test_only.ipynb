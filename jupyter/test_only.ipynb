{
 "cells": [
  {
   "cell_type": "code",
   "execution_count": 2,
   "id": "5c2abd18-3e95-411d-9cbf-862369805bb1",
   "metadata": {
    "tags": []
   },
   "outputs": [
    {
     "name": "stdout",
     "output_type": "stream",
     "text": [
      "--- James Concordance loaded ---\n"
     ]
    }
   ],
   "source": [
    "import json\n",
    "from greek_word import GreekWord\n",
    "\n",
    "def load_greek_concordance(concordance_filename):\n",
    "    greek_concordance_json_file = open(f\"../data/greek_concordances/{concordance_filename}\")\n",
    "\n",
    "    verse_maps = json.load(greek_concordance_json_file)\n",
    "    greek_words = []\n",
    "\n",
    "    for single_verse in verse_maps:\n",
    "        current_chapter = int(single_verse[\"id\"][2:5])\n",
    "        current_verse = int(single_verse[\"id\"][5:])\n",
    "        # current_fisher_section = get_fisher_section(concordance_filename, current_chapter, current_verse)\n",
    "        current_fisher_section = 0  # TODO: Implement this in John\n",
    "        words = single_verse[\"verse\"]\n",
    "\n",
    "        word_index = 0\n",
    "        for json_word in words:\n",
    "            greek_word = json_word[\"word\"]\n",
    "            english_text = json_word[\"text\"]\n",
    "            # chapter = chapter\n",
    "            # verse = verse\n",
    "            i = json_word[\"i\"]  # really not that useful, similar to word_index but different for repeated words (i becomes the final word_index)\n",
    "            # fisher_section = fisher_section\n",
    "            strongs_number = json_word[\"number\"]\n",
    "            # strongs_word = strongs_word\n",
    "            # strongs_data = strongs_data\n",
    "            greek_word = GreekWord(greek_word, english_text, current_chapter, current_verse, word_index, i, current_fisher_section, strongs_number, None, None)\n",
    "            greek_words.append(greek_word)\n",
    "            word_index += 1\n",
    "\n",
    "    greek_concordance_json_file.close()\n",
    "    return greek_words\n",
    "\n",
    "\n",
    "print(\"--- James Concordance loaded ---\")\n",
    "john_words = load_greek_concordance(\"john_concordance.json\")"
   ]
  },
  {
   "cell_type": "code",
   "execution_count": 3,
   "id": "6795b86c-2ff9-465f-a087-c22ccb732d14",
   "metadata": {
    "tags": []
   },
   "outputs": [
    {
     "name": "stdout",
     "output_type": "stream",
     "text": [
      "Ἐν - In (1:1.0) g1722 T0\n",
      "ἀρχῇ - the beginning (1:1.1) g746 T0\n",
      "ἦν - was (1:1.2) g2258 T0\n",
      "ὁ -  (1:1.3) g3588 T0\n",
      "λόγος - the Word (1:1.4) g3056 T0\n",
      "καὶ - and (1:1.5) g2532 T0\n",
      "ὁ -  (1:1.6) g3588 T0\n",
      "λόγος - the Word (1:1.7) g3056 T0\n",
      "ἦν - was (1:1.8) g2258 T0\n",
      "πρὸς - with (1:1.9) g4314 T0\n"
     ]
    }
   ],
   "source": [
    "for k in range(10):\n",
    "    print(john_words[k])"
   ]
  },
  {
   "cell_type": "code",
   "execution_count": null,
   "id": "f0b5cebd-0466-4a50-b025-11a132792f6d",
   "metadata": {},
   "outputs": [],
   "source": []
  }
 ],
 "metadata": {
  "kernelspec": {
   "display_name": "Python 3 (ipykernel)",
   "language": "python",
   "name": "python3"
  },
  "language_info": {
   "codemirror_mode": {
    "name": "ipython",
    "version": 3
   },
   "file_extension": ".py",
   "mimetype": "text/x-python",
   "name": "python",
   "nbconvert_exporter": "python",
   "pygments_lexer": "ipython3",
   "version": "3.11.5"
  }
 },
 "nbformat": 4,
 "nbformat_minor": 5
}
